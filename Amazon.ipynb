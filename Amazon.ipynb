{
 "cells": [
  {
   "cell_type": "code",
   "execution_count": 1,
   "metadata": {},
   "outputs": [],
   "source": [
    "#importing libraries\n",
    "\n",
    "import os\n",
    "import pandas as pd\n",
    "import numpy as np \n",
    "import datetime\n",
    "import time\n",
    "import dateutil\n",
    "from selenium import webdriver\n",
    "from selenium.webdriver.chrome.options import Options\n",
    "from bs4 import BeautifulSoup as bs\n",
    "import warnings\n",
    "warnings.filterwarnings(\"ignore\")"
   ]
  },
  {
   "cell_type": "code",
   "execution_count": 111,
   "metadata": {},
   "outputs": [],
   "source": [
    "#setting up web browser parameter\n",
    "options = Options()\n",
    "options.add_argument(\"--start-maximized\")\n",
    "#options.add_argument(\"--headless\")\n",
    "driver = webdriver.Chrome(options = options)\n",
    "\n",
    "#crawler\n",
    "driver.get('https://www.amazon.in/')\n",
    "time.sleep(5)\n",
    "\n",
    "#clicking on the search bar in the Homepage\n",
    "search_bar = driver.find_element_by_xpath('//*[@id=\"twotabsearchtextbox\"]')\n",
    "search_bar.click()\n",
    "search_bar.send_keys('smart watches')\n",
    "time.sleep(5)\n",
    "\n",
    "#click search button to search for the item\n",
    "search_button = driver.find_element_by_xpath('//*[@id=\"nav-search\"]/form/div[2]/div/input')\n",
    "search_button.click()\n",
    "time.sleep(5)\n",
    "\n",
    "#select particular brands\n",
    "driver.find_element_by_xpath('//*[@id=\"p_89/Fastrack\"]/span/a/div').click()\n",
    "\n",
    "#getting the data\n",
    "data = driver.page_source"
   ]
  },
  {
   "cell_type": "code",
   "execution_count": 112,
   "metadata": {},
   "outputs": [],
   "source": [
    "from bs4 import BeautifulSoup as bs"
   ]
  },
  {
   "cell_type": "code",
   "execution_count": 128,
   "metadata": {},
   "outputs": [
    {
     "data": {
      "text/plain": [
       "[]"
      ]
     },
     "execution_count": 128,
     "metadata": {},
     "output_type": "execute_result"
    }
   ],
   "source": [
    "soup = bs(data, \"html.parser\")\n",
    "product_name = soup.findAll('div' , {'class' : 'a-section a-spacing-none a-spacing-top-small'})\n",
    "product_name"
   ]
  },
  {
   "cell_type": "code",
   "execution_count": 130,
   "metadata": {},
   "outputs": [
    {
     "data": {
      "text/plain": [
       "[]"
      ]
     },
     "execution_count": 130,
     "metadata": {},
     "output_type": "execute_result"
    }
   ],
   "source": [
    "soup.findAll('h2')"
   ]
  }
 ],
 "metadata": {
  "kernelspec": {
   "display_name": "Python 3",
   "language": "python",
   "name": "python3"
  },
  "language_info": {
   "codemirror_mode": {
    "name": "ipython",
    "version": 3
   },
   "file_extension": ".py",
   "mimetype": "text/x-python",
   "name": "python",
   "nbconvert_exporter": "python",
   "pygments_lexer": "ipython3",
   "version": "3.7.6"
  }
 },
 "nbformat": 4,
 "nbformat_minor": 4
}
